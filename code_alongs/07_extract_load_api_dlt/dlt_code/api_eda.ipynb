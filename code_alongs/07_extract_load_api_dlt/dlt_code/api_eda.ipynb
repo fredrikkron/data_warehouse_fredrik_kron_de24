{
 "cells": [
  {
   "cell_type": "markdown",
   "id": "1b2367f5",
   "metadata": {},
   "source": [
    "# EDA on jobtech API"
   ]
  },
  {
   "cell_type": "code",
   "execution_count": 1,
   "id": "910dcb4a",
   "metadata": {},
   "outputs": [
    {
     "name": "stdout",
     "output_type": "stream",
     "text": [
      "Lärare till Uppsala, Glaveby Consulting AB\n",
      "JENSEN gymnasium Uppsala söker lärare i matematik/engelska, Jensen Education AB\n",
      "Lärare i SVA/SFI till utbildnings- och jobbcenter i Uppsala, Uppsala kommun\n",
      "Lärare i SVA/SFI till Utbildnings- och jobbcenter i Uppsala (kvällstid), Uppsala kommun\n",
      "Lärare luftbevakning Utbildningsavdelningen StrilS, Försvarsmakten\n",
      "Lärare årskurs F-3 till Flogstaskolan, Uppsala kommun\n",
      "Lärarvikarier i samtliga ämneskombinationer till Grillska gymnasiet i Uppsa, Stadsmissionens Skolstift\n",
      "Yrkeslärare barn och fritid till Ellen Fries gymnasium, Uppsala kommun\n",
      "JENSEN grundskola Kåbo 4-9 söker timvikarier, Jensen Education AB\n",
      "Lärare åk 3-5 till Danmarks skola, Uppsala kommun\n",
      "Jobba som lärare på Sveriges bästa och mest personliga bemanningsföretag!, PersonalExpressen AB\n"
     ]
    }
   ],
   "source": [
    "import requests\n",
    "import json\n",
    "\n",
    "url = 'https://jobsearch.api.jobtechdev.se'\n",
    "url_for_search = f\"{url}/search\"\n",
    "\n",
    "\n",
    "def _get_ads(params):\n",
    "    headers = {'accept': 'application/json'}\n",
    "    response = requests.get(url_for_search, headers=headers, params=params)\n",
    "    response.raise_for_status()  # check for http errors\n",
    "    return json.loads(response.content.decode('utf8'))\n",
    "\n",
    "\n",
    "def example_search_return_number_of_hits(query):\n",
    "    # limit: 0 means no ads, just a value of how many ads were found.\n",
    "    search_params = {'q': query, 'limit': 0}\n",
    "    json_response = _get_ads(search_params)\n",
    "    number_of_hits = json_response['total']['value']\n",
    "    print(f\"\\nNumber of hits = {number_of_hits}\")\n",
    "\n",
    "\n",
    "def example_search_loop_through_hits(query):\n",
    "    # limit = 100 is the max number of hits that can be returned.\n",
    "    # If there are more (which you find with ['total']['value'] in the json response)\n",
    "    # you have to use offset and multiple requests to get all ads.\n",
    "    search_params = {'q': query, 'limit': 100}\n",
    "    json_response = _get_ads(search_params)\n",
    "    hits = json_response['hits']\n",
    "    for hit in hits:   \n",
    "        print(f\"{hit['headline']}, {hit['employer']['name']}\")\n",
    "\n",
    "\n",
    "query = 'lärare uppsala'\n",
    "example_search_loop_through_hits(query)"
   ]
  },
  {
   "cell_type": "code",
   "execution_count": 3,
   "id": "cc496430",
   "metadata": {},
   "outputs": [
    {
     "name": "stdout",
     "output_type": "stream",
     "text": [
      "\n",
      "Number of hits = 11\n"
     ]
    }
   ],
   "source": [
    "example_search_return_number_of_hits(query)"
   ]
  },
  {
   "cell_type": "code",
   "execution_count": 5,
   "id": "095729e5",
   "metadata": {},
   "outputs": [
    {
     "data": {
      "text/plain": [
       "dict"
      ]
     },
     "execution_count": 5,
     "metadata": {},
     "output_type": "execute_result"
    }
   ],
   "source": [
    "search_params = {'q': query, 'limit': 100}\n",
    "json_response = _get_ads(search_params)\n",
    "type(json_response)"
   ]
  },
  {
   "cell_type": "code",
   "execution_count": 6,
   "id": "83554357",
   "metadata": {},
   "outputs": [
    {
     "data": {
      "text/plain": [
       "dict_keys(['total', 'positions', 'query_time_in_millis', 'result_time_in_millis', 'stats', 'freetext_concepts', 'hits'])"
      ]
     },
     "execution_count": 6,
     "metadata": {},
     "output_type": "execute_result"
    }
   ],
   "source": [
    "json_response.keys()"
   ]
  },
  {
   "cell_type": "code",
   "execution_count": 8,
   "id": "36924a70",
   "metadata": {},
   "outputs": [
    {
     "data": {
      "text/plain": [
       "11"
      ]
     },
     "execution_count": 8,
     "metadata": {},
     "output_type": "execute_result"
    }
   ],
   "source": [
    "len(json_response.get(\"hits\"))"
   ]
  },
  {
   "cell_type": "code",
   "execution_count": 10,
   "id": "4093c07b",
   "metadata": {},
   "outputs": [
    {
     "data": {
      "text/plain": [
       "dict_keys(['relevance', 'id', 'external_id', 'original_id', 'label', 'webpage_url', 'logo_url', 'headline', 'application_deadline', 'number_of_vacancies', 'description', 'employment_type', 'salary_type', 'salary_description', 'duration', 'working_hours_type', 'scope_of_work', 'access', 'employer', 'application_details', 'experience_required', 'access_to_own_car', 'driving_license_required', 'driving_license', 'occupation', 'occupation_group', 'occupation_field', 'workplace_address', 'must_have', 'nice_to_have', 'application_contacts', 'publication_date', 'last_publication_date', 'removed', 'removed_date', 'source_type', 'timestamp'])"
      ]
     },
     "execution_count": 10,
     "metadata": {},
     "output_type": "execute_result"
    }
   ],
   "source": [
    "json_response.get(\"hits\")[1].keys()"
   ]
  },
  {
   "cell_type": "code",
   "execution_count": 11,
   "id": "4b2849e6",
   "metadata": {},
   "outputs": [
    {
     "data": {
      "text/plain": [
       "'JENSEN gymnasium Uppsala söker lärare i matematik/engelska'"
      ]
     },
     "execution_count": 11,
     "metadata": {},
     "output_type": "execute_result"
    }
   ],
   "source": [
    "json_response.get(\"hits\")[1][\"headline\"]"
   ]
  },
  {
   "cell_type": "code",
   "execution_count": 14,
   "id": "e0afc498",
   "metadata": {},
   "outputs": [
    {
     "data": {
      "text/plain": [
       "dict_keys(['total', 'positions', 'query_time_in_millis', 'result_time_in_millis', 'stats', 'freetext_concepts', 'hits'])"
      ]
     },
     "execution_count": 14,
     "metadata": {},
     "output_type": "execute_result"
    }
   ],
   "source": [
    "search_params = {'q': \"data engineer\", 'limit': 100}\n",
    "json_response = _get_ads(search_params)\n",
    "json_response.keys()"
   ]
  },
  {
   "cell_type": "code",
   "execution_count": 18,
   "id": "ad79dce1",
   "metadata": {},
   "outputs": [
    {
     "data": {
      "text/plain": [
       "('Senior Software Engineer - Data & Video Analytics, Lund',\n",
       " 'Axis Communications AB')"
      ]
     },
     "execution_count": 18,
     "metadata": {},
     "output_type": "execute_result"
    }
   ],
   "source": [
    "json_response[\"hits\"][-1][\"headline\"], json_response[\"hits\"][-1][\"employer\"][\"name\"]"
   ]
  }
 ],
 "metadata": {
  "kernelspec": {
   "display_name": "data_warehouse_fredrik_kron_de24",
   "language": "python",
   "name": "python3"
  },
  "language_info": {
   "codemirror_mode": {
    "name": "ipython",
    "version": 3
   },
   "file_extension": ".py",
   "mimetype": "text/x-python",
   "name": "python",
   "nbconvert_exporter": "python",
   "pygments_lexer": "ipython3",
   "version": "3.12.6"
  }
 },
 "nbformat": 4,
 "nbformat_minor": 5
}
